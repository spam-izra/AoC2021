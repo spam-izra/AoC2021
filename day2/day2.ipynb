{
 "cells": [
  {
   "cell_type": "markdown",
   "metadata": {},
   "source": [
    "# День 2\n",
    "\n",
    "### https://adventofcode.com/2021/day/2"
   ]
  },
  {
   "cell_type": "markdown",
   "metadata": {},
   "source": [
    "# Part 1"
   ]
  },
  {
   "cell_type": "markdown",
   "metadata": {},
   "source": [
    "Имеется набор команд, которые управляют подлодкой\n",
    "\n",
    "- forward X - переместиться на X по горизонтали\n",
    "- down X - погрузиться на X (перемещение по вертикали)\n",
    "- up X - всплыть на X (перемещение по вертикали)\n",
    "\n",
    "Ось X в сторону движения направлена. Ось Y вниз. Нужно найти положение подлодки при окончании движения. Стартовая позиция с координатами (0, 0). Ответ - это произведение конечных координат.\n",
    "\n",
    "Пример ввода:\n",
    "```\n",
    "forward 5\n",
    "down 5\n",
    "forward 8\n",
    "up 3\n",
    "down 8\n",
    "forward 2\n",
    "```\n",
    "\n",
    "Пример вывода:\n",
    "```\n",
    "150\n",
    "```"
   ]
  },
  {
   "cell_type": "code",
   "execution_count": 2,
   "metadata": {},
   "outputs": [
    {
     "name": "stdout",
     "output_type": "stream",
     "text": [
      "15 10\n",
      "150\n"
     ]
    }
   ],
   "source": [
    "commands = []\n",
    "\n",
    "with open(\"test.txt\") as f:\n",
    "    for line in f:\n",
    "        op, X = line.split()\n",
    "        commands.append((op, int(X)))\n",
    "        \n",
    "x, y = 0, 0\n",
    "\n",
    "for op, X in commands:\n",
    "    if op == \"forward\":\n",
    "        x += X\n",
    "    elif op == \"up\":\n",
    "        y -= X\n",
    "    elif op == \"down\":\n",
    "        y += X\n",
    "    else:\n",
    "        raise Exception(op)\n",
    "\n",
    "print(x, y)\n",
    "\n",
    "answer = (x * y)\n",
    "print(answer)\n",
    "with open(\"output1.txt\", \"w\") as f:\n",
    "    #f.write(str(answer))\n",
    "    print(answer, file=f)"
   ]
  },
  {
   "cell_type": "markdown",
   "metadata": {},
   "source": [
    "# Part 2\n",
    "\n",
    "Оказалось, что команды обозначают немного другие вещи. Помимо координат подлодки, есть еще направление движения по углу (aim)\n",
    "- down X - увеличивает угол наклона на X\n",
    "- up X - уменьшает угол наклона на X\n",
    "- forward X - делает следующие шаги по порядку\n",
    "  1. Переместиться на X по горизонтали.\n",
    "  2. Изменить вертикальную координату на угол, умноженный на X (aim * X)"
   ]
  },
  {
   "cell_type": "code",
   "execution_count": 21,
   "metadata": {},
   "outputs": [
    {
     "name": "stdout",
     "output_type": "stream",
     "text": [
      "1931 894762\n",
      "1727785422\n"
     ]
    }
   ],
   "source": [
    "commands = []\n",
    "\n",
    "with open(\"input.txt\") as f:\n",
    "    for line in f:\n",
    "        op, X = line.split()\n",
    "        commands.append((op, int(X)))\n",
    "        \n",
    "x, y, aim = 0, 0, 0\n",
    "\n",
    "for op, X in commands:\n",
    "    if op == \"forward\":\n",
    "        x += X\n",
    "        y += aim * X\n",
    "    elif op == \"up\":\n",
    "        aim -= X\n",
    "    elif op == \"down\":\n",
    "        aim += X\n",
    "    else:\n",
    "        raise Exception(op)\n",
    "\n",
    "print(x, y)\n",
    "answer = (x * y)\n",
    "print(answer)\n",
    "with open(\"output1.txt\", \"w\") as f:\n",
    "    #f.write(str(answer))\n",
    "    print(answer, file=f)"
   ]
  }
 ],
 "metadata": {
  "kernelspec": {
   "display_name": "Python 3",
   "language": "python",
   "name": "python3"
  },
  "language_info": {
   "codemirror_mode": {
    "name": "ipython",
    "version": 3
   },
   "file_extension": ".py",
   "mimetype": "text/x-python",
   "name": "python",
   "nbconvert_exporter": "python",
   "pygments_lexer": "ipython3",
   "version": "3.9.9"
  }
 },
 "nbformat": 4,
 "nbformat_minor": 4
}
