{
 "cells": [
  {
   "cell_type": "markdown",
   "metadata": {
    "jp-MarkdownHeadingCollapsed": true,
    "tags": []
   },
   "source": [
    "# День 12\n",
    "\n",
    "https://adventofcode.com/2021/day/12"
   ]
  },
  {
   "cell_type": "markdown",
   "metadata": {
    "tags": []
   },
   "source": [
    "# Part 1\n",
    "\n"
   ]
  },
  {
   "cell_type": "markdown",
   "metadata": {},
   "source": [
    "Мы доплыли до сети пещер. Нужно найти все возможные различные пути из `start` в `end`, при этом большие пещеры можно посещать сколько угодно раз, а маленькие только один раз.\n",
    "\n",
    "```\n",
    "dc-end\n",
    "HN-start\n",
    "start-kj\n",
    "dc-start\n",
    "dc-HN\n",
    "LN-dc\n",
    "HN-end\n",
    "kj-sa\n",
    "kj-HN\n",
    "kj-dc\n",
    "```\n",
    "\n",
    "Вывод: 19"
   ]
  },
  {
   "cell_type": "code",
   "execution_count": 1,
   "metadata": {},
   "outputs": [
    {
     "name": "stdout",
     "output_type": "stream",
     "text": [
      "4573\n"
     ]
    }
   ],
   "source": [
    "graph = {}\n",
    "\n",
    "with open(\"input.txt\") as f:\n",
    "    for line in f:\n",
    "        line = line.strip()\n",
    "        if line == \"\": continue\n",
    "        \n",
    "        a, b = line.split(\"-\")        \n",
    "        graph[a] = graph.get(a, []) + [b,]\n",
    "        graph[b] = graph.get(b, []) + [a,]\n",
    "        \n",
    "\n",
    "        \n",
    "def solve(path, graph, deep=0):    \n",
    "    last = path[-1]\n",
    "    if last == \"end\":\n",
    "        return 1\n",
    "        \n",
    "    visited = set(path)    \n",
    "    \n",
    "    res = 0\n",
    "    for n in graph[last]:\n",
    "        if n.islower() and n in visited:\n",
    "            continue\n",
    "            \n",
    "        new_path = path + (n,)\n",
    "        res += solve(new_path, graph, deep+1)\n",
    "        \n",
    "    return res\n",
    "    \n",
    "res = solve((\"start\",), graph)\n",
    "answer = res\n",
    "\n",
    "with open(\"output1.txt\", \"w\") as f:\n",
    "    print(answer)\n",
    "    print(answer, file=f)"
   ]
  },
  {
   "cell_type": "markdown",
   "metadata": {
    "tags": []
   },
   "source": [
    "# Part 2\n",
    "\n",
    "Усложним задачу. Теперь любую одну из маленьких пещер можно посетить до двух раз, остальные маленькие пещеры только один раз.\n",
    "\n",
    "Вывод: 36"
   ]
  },
  {
   "cell_type": "code",
   "execution_count": 2,
   "metadata": {},
   "outputs": [
    {
     "name": "stdout",
     "output_type": "stream",
     "text": [
      "117509\n"
     ]
    }
   ],
   "source": [
    "from collections import Counter\n",
    "\n",
    "graph = {}\n",
    "\n",
    "with open(\"input.txt\") as f:\n",
    "    for line in f:\n",
    "        line = line.strip()\n",
    "        if line == \"\": continue\n",
    "        \n",
    "        a, b = line.split(\"-\")        \n",
    "        graph[a] = graph.get(a, []) + [b,]\n",
    "        graph[b] = graph.get(b, []) + [a,]\n",
    "        \n",
    "\n",
    "        \n",
    "def solve(path, graph, deep=0):   \n",
    "    last = path[-1]\n",
    "    if last == \"end\":\n",
    "        return 1\n",
    "        \n",
    "    visited = Counter(path) \n",
    "    has2 = False\n",
    "    for v in visited:\n",
    "        if v.islower() and visited[v] == 2:\n",
    "            has2 = True\n",
    "            break\n",
    "        \n",
    "    res = 0\n",
    "    for n in graph[last]:\n",
    "        if n == \"start\":\n",
    "            continue\n",
    "            \n",
    "        if n.islower() and has2 and visited[n] >= 1:\n",
    "            continue\n",
    "            \n",
    "        new_path = path + (n,)\n",
    "        res += solve(new_path, graph, deep+1)\n",
    "        \n",
    "    return res\n",
    "    \n",
    "res = solve((\"start\",), graph)\n",
    "print(res)\n",
    "\n",
    "with open(\"output2.txt\", \"w\") as f:\n",
    "    print(res, file=f)"
   ]
  }
 ],
 "metadata": {
  "kernelspec": {
   "display_name": "Python 3",
   "language": "python",
   "name": "python3"
  },
  "language_info": {
   "codemirror_mode": {
    "name": "ipython",
    "version": 3
   },
   "file_extension": ".py",
   "mimetype": "text/x-python",
   "name": "python",
   "nbconvert_exporter": "python",
   "pygments_lexer": "ipython3",
   "version": "3.8.6"
  }
 },
 "nbformat": 4,
 "nbformat_minor": 4
}
