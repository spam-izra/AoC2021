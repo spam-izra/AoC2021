{
 "cells": [
  {
   "cell_type": "markdown",
   "metadata": {},
   "source": [
    "# День 1\n",
    "\n",
    "### https://adventofcode.com/2021/day/1"
   ]
  },
  {
   "cell_type": "markdown",
   "metadata": {
    "tags": []
   },
   "source": [
    "# Part 1"
   ]
  },
  {
   "cell_type": "markdown",
   "metadata": {},
   "source": [
    "Имеется список целых чисел. Требуется найти количество событий, где последующий элемент больше предыдущего.\n",
    "\n",
    "Пример входных данных:\n",
    "```\n",
    "199\n",
    "200\n",
    "208\n",
    "210\n",
    "200\n",
    "207\n",
    "240\n",
    "269\n",
    "260\n",
    "263\n",
    "```\n",
    "\n",
    "Результат:\n",
    "```\n",
    "7\n",
    "```"
   ]
  },
  {
   "cell_type": "code",
   "execution_count": 107,
   "metadata": {},
   "outputs": [
    {
     "name": "stdout",
     "output_type": "stream",
     "text": [
      "[157, 158, 167, 157, 148, 154, 155, 156, 151, 126]\n",
      "1292\n"
     ]
    }
   ],
   "source": [
    "# Шаг 1: получить данные задачи\n",
    "\n",
    "arr = []\n",
    "with open(\"input.txt\") as f:\n",
    "    for line in f:\n",
    "        arr.append(int(line))\n",
    "        \n",
    "print(arr[:10])\n",
    "\n",
    "# Шаг 2: просто проходимся по элементам\n",
    "answer = 0\n",
    "for c_val, n_val in zip(arr[:-1], arr[1:]):\n",
    "    if n_val > c_val:\n",
    "        answer += 1\n",
    "        \n",
    "# Шаг 3: вывод\n",
    "print(answer)  \n",
    "with open(\"output1.txt\", \"w\") as f:\n",
    "    print(answer, file=f)\n",
    "    # можно и так\n",
    "    # f.write(str(answer))"
   ]
  },
  {
   "cell_type": "markdown",
   "metadata": {
    "tags": []
   },
   "source": [
    "# Part 2"
   ]
  },
  {
   "cell_type": "markdown",
   "metadata": {},
   "source": [
    "Имеется тот же самый список, но теперь по списку скользит окно ширинной 3. Теперь нужно найти количество событий, где сумма элементов в следующем окне больше суммы элементов в предыдущем."
   ]
  },
  {
   "cell_type": "code",
   "execution_count": 64,
   "metadata": {},
   "outputs": [
    {
     "name": "stdout",
     "output_type": "stream",
     "text": [
      "[199, 200, 208, 210, 200, 207, 240, 269, 260, 263]\n",
      "607 618\n",
      "618 618\n",
      "618 617\n",
      "617 647\n",
      "647 716\n",
      "716 769\n",
      "769 792\n",
      "5\n"
     ]
    }
   ],
   "source": [
    "# Шаг 1: получить данные задачи\n",
    "\n",
    "arr = []\n",
    "with open(\"input.txt\") as f:\n",
    "    for line in f:\n",
    "        arr.append(int(line))\n",
    "    \n",
    "print(arr[:10])\n",
    "\n",
    "# Шаг 2: просто берем срезы, они и есть наши окна\n",
    "answer = 0\n",
    "for i in range(len(arr) - 3):\n",
    "    a = sum(arr[i:i+3])\n",
    "    b = sum(arr[i+1:i+3+1])\n",
    "    print(a, b)\n",
    "    if b > a:\n",
    "        answer += 1\n",
    "        \n",
    "# Шаг 3: вывод\n",
    "print(answer)\n",
    "with open(\"output2.txt\", \"w\") as f:\n",
    "    #f.write(str(answer))\n",
    "    print(answer, file=f)"
   ]
  },
  {
   "cell_type": "markdown",
   "metadata": {},
   "source": [
    "Можно оценить количество операций в алгоритме выше в зависимости от длины входных данных. По времени - это будет $O(11(n-3)) \\equiv O(n)$, по памяти - это будет $O(n)$, так как нам нужно хранить только ответ и сам массив."
   ]
  },
  {
   "cell_type": "markdown",
   "metadata": {},
   "source": [
    "# Part 2 (лучше)\n",
    "\n",
    "Но мы можем сделать наш алгоритм еще лучше."
   ]
  },
  {
   "cell_type": "code",
   "execution_count": 65,
   "metadata": {},
   "outputs": [
    {
     "name": "stdout",
     "output_type": "stream",
     "text": [
      "[199, 200, 208, 210, 200, 207, 240, 269, 260, 263]\n",
      "5\n"
     ]
    }
   ],
   "source": [
    "# Шаг 1: получить данные задачи\n",
    "\n",
    "arr = []\n",
    "with open(\"input.txt\") as f:\n",
    "    for line in f:\n",
    "        arr.append(int(line))\n",
    "    \n",
    "print(arr[:10])\n",
    "\n",
    "# Шаг 2: мы вычисляем следующее окно из текущего.\n",
    "#        Это позволяет не делать два цикла для вычисления окна.\n",
    "#        \n",
    "answer = 0\n",
    "\n",
    "# инициализация окна\n",
    "window = arr[0] + arr[1] + arr[2]\n",
    "\n",
    "# проходимся по элементам, обновляя состояния окна\n",
    "for i in range(3, len(arr)):\n",
    "    # запоминаем предыдущее\n",
    "    a = window\n",
    "    # а теперь обновляем\n",
    "    window = window - arr[i-3] + arr[i]\n",
    "    \n",
    "    if window > a:\n",
    "        answer += 1\n",
    "    \n",
    "# Шаг 3: вывод\n",
    "print(answer) \n",
    "with open(\"output2.txt\", \"w\") as f:\n",
    "    #f.write(str(answer))\n",
    "    print(answer, file=f)"
   ]
  },
  {
   "cell_type": "markdown",
   "metadata": {},
   "source": [
    "Сложность по времени данного алгоритма станет - $O(5(n-3)+2) \\equiv O(n)$. Асимптотическая сложность не изменилась, но количество операций стало в два раза меньше. На очень больших объемах данных - это существенно. "
   ]
  },
  {
   "cell_type": "markdown",
   "metadata": {},
   "source": [
    "# Part 2 (еще лучше)\n",
    "\n",
    "Можно еще лучше. Когда мы сравниваем два окна, то по факту у нас есть выражение:\n",
    "$$\n",
    "a[n] + a[n+1] + a[n+2] < a[n+1] + a[n+2] + a[n+3]\n",
    "$$\n",
    "\n",
    "Если убрать одинаковые элементы, то получим\n",
    "$$\n",
    "a[n] < a[n+3]\n",
    "$$\n",
    "\n",
    "Таким образом, для сравнения окон, нам достаточно сравнить первый элемент первого окна и последний элемент второго."
   ]
  },
  {
   "cell_type": "code",
   "execution_count": 106,
   "metadata": {},
   "outputs": [
    {
     "name": "stdout",
     "output_type": "stream",
     "text": [
      "[157, 158, 167, 157, 148, 154, 155, 156, 151, 126]\n",
      "1999\n",
      "1262\n"
     ]
    }
   ],
   "source": [
    "# Шаг 1: получить данные задачи\n",
    "\n",
    "arr = []\n",
    "with open(\"input.txt\") as f:\n",
    "    for line in f:\n",
    "        arr.append(int(line))\n",
    "    \n",
    "print(arr[:10])\n",
    "\n",
    "# Шаг 2: находим ответ\n",
    "answer = 0\n",
    "for i in range(len(arr)-3):\n",
    "    if arr[i] < arr[i+3]:\n",
    "        answer += 1\n",
    "            \n",
    "# Шаг 3: вывод\n",
    "print(answer) \n",
    "with open(\"output2.txt\", \"w\") as f:\n",
    "    #f.write(str(answer))\n",
    "    print(answer, file=f)"
   ]
  },
  {
   "cell_type": "markdown",
   "metadata": {},
   "source": [
    "Здесь сложность алгоритма $O(3*(n-3) + 2)$, сложность по памяти не изменилась."
   ]
  },
  {
   "cell_type": "markdown",
   "metadata": {},
   "source": [
    "# Part 2 (оптимизируем расход памяти)"
   ]
  },
  {
   "cell_type": "code",
   "execution_count": null,
   "metadata": {},
   "outputs": [],
   "source": [
    "# Здесь все сложнее. Мы последовательно считываем данные\n",
    "# из файла и сравниваем элементы из окон.\n",
    "\n",
    "queue = []\n",
    "answer = 0\n",
    "\n",
    "with open(\"input.txt\") as f:\n",
    "    for _ in range(3):\n",
    "        line = f.readline()\n",
    "        queue.append(int(line))\n",
    "    \n",
    "    for line in f:\n",
    "        first = queue.pop(0)\n",
    "        queue.append(int(line))\n",
    "        last = queue[-1]\n",
    "        \n",
    "        if last > first:\n",
    "            answer += 1\n",
    "            \n",
    "            \n",
    "#  вывод\n",
    "print(answer) \n",
    "with open(\"output2.txt\", \"w\") as f:\n",
    "    #f.write(str(answer))\n",
    "    print(answer, file=f)"
   ]
  },
  {
   "cell_type": "markdown",
   "metadata": {},
   "source": [
    "Здесь уже сложность алгоритма $O(5*(n-3) + 2) \\equiv O(n)$, но сложность по памяти становится функцией ширины окна $O(m)$, где $m$ - ширина окна."
   ]
  },
  {
   "cell_type": "markdown",
   "metadata": {
    "tags": []
   },
   "source": [
    "# Сравнение"
   ]
  },
  {
   "cell_type": "code",
   "execution_count": 109,
   "metadata": {},
   "outputs": [],
   "source": [
    "import timeit\n",
    "\n",
    "def func1(arr):\n",
    "    answer = 0\n",
    "    for i in range(len(arr) - 3):\n",
    "        a = sum(arr[i:i+3])\n",
    "        b = sum(arr[i+1:i+3+1])\n",
    "        if b > a:\n",
    "            answer += 1\n",
    "    return answer\n",
    "\n",
    "def func2(arr):\n",
    "    answer = 0\n",
    "    \n",
    "    for i in range(0, len(arr) - 3):\n",
    "        first = arr[i]\n",
    "        last = arr[i + 3]\n",
    "        if last > first:\n",
    "            answer += 1\n",
    "            \n",
    "    return answer \n",
    "\n",
    "Ns = list(range(10, 200))\n",
    "\n",
    "t1 = []\n",
    "for n in Ns:\n",
    "    arr = [i for i in range(n)]\n",
    "    r = timeit.timeit('func1(arr)', globals=globals(), number=5000)\n",
    "    t1.append(r)\n",
    "    \n",
    "t2 = []\n",
    "for n in Ns:\n",
    "    arr = [i for i in range(n)]\n",
    "   \n",
    "    r = timeit.timeit('func2(arr)', globals=globals(), number=5000)\n",
    "    t2.append(r)"
   ]
  },
  {
   "cell_type": "code",
   "execution_count": 110,
   "metadata": {},
   "outputs": [
    {
     "data": {
      "image/png": "[encoded data removed]",
      "text/plain": [
       "<Figure size 432x288 with 1 Axes>"
      ]
     },
     "metadata": {
      "needs_background": "light"
     },
     "output_type": "display_data"
    }
   ],
   "source": [
    "import matplotlib.pyplot as plt\n",
    "%matplotlib inline\n",
    "\n",
    "plt.plot(Ns, t1, label=\"simple\")\n",
    "plt.plot(Ns, t2, label=\"opt\")\n",
    "plt.grid()\n",
    "plt.legend()\n",
    "plt.show()"
   ]
  }
 ],
 "metadata": {
  "kernelspec": {
   "display_name": "Python 3",
   "language": "python",
   "name": "python3"
  },
  "language_info": {
   "codemirror_mode": {
    "name": "ipython",
    "version": 3
   },
   "file_extension": ".py",
   "mimetype": "text/x-python",
   "name": "python",
   "nbconvert_exporter": "python",
   "pygments_lexer": "ipython3",
   "version": "3.9.9"
  }
 },
 "nbformat": 4,
 "nbformat_minor": 4
}
