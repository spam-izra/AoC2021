{
 "cells": [
  {
   "cell_type": "markdown",
   "metadata": {},
   "source": [
    "# День 8\n",
    "\n",
    "https://adventofcode.com/2021/day/8"
   ]
  },
  {
   "cell_type": "markdown",
   "metadata": {},
   "source": [
    "# Part 1\n",
    "\n",
    "Оказалось, что сломались дисплеи, состоящие из 4 цифр, рисуемых с помощью 7 сегментов вида\n",
    "\n",
    "```\n",
    " aaaa  \n",
    "b    c \n",
    "b    c \n",
    " dddd  \n",
    "e    f \n",
    "e    f \n",
    " gggg \n",
    "```\n",
    "(цифра 1 - это включенный сегмент c и f)\n",
    "\n",
    "Так получилось, что соединения были перепутаны для каждого из дисплеев. Система пытается отобразить правильно, но из-за неправильного соединения мы получаем некорректное отображение. Как пример, мы можем увидеть два включенных сегмента b и g, но они не образуют цифру, а значит это неправильно отображенная 1, так как только она имеет 2 сегмента.\n",
    "\n",
    "Нужно подсчитать, сколько раз на дисплеях появились цифры 1, 4, 7, 8.\n",
    "\n",
    "Входные данные - это уникальные сигналы приходящие на дисплей (коды для отображения цифр, их должно быть 10) и отображаемое текущее значение на дисплее (4 кода).\n",
    "\n",
    "Пример\n",
    "```\n",
    "be cfbegad cbdgef fgaecd cgeb fdcge agebfd fecdb fabcd edb | fdgacbe cefdb cefbgd gcbe\n",
    "edbfga begcd cbg gc gcadebf fbgde acbgfd abcde gfcbed gfec | fcgedb cgb dgebacf gc\n",
    "fgaebd cg bdaec gdafb agbcfd gdcbef bgcad gfac gcb cdgabef | cg cg fdcagb cbg\n",
    "fbegcd cbd adcefb dageb afcb bc aefdc ecdab fgdeca fcdbega | efabcd cedba gadfec cb\n",
    "aecbfdg fbg gf bafeg dbefa fcge gcbea fcaegb dgceab fcbdga | gecf egdcabf bgf bfgea\n",
    "fgeab ca afcebg bdacfeg cfaedg gcfdb baec bfadeg bafgc acf | gebdcfa ecba ca fadegcb\n",
    "dbcfg fgd bdegcaf fgec aegbdf ecdfab fbedc dacgb gdcebf gf | cefg dcbef fcge gbcadfe\n",
    "bdfegc cbegaf gecbf dfcage bdacg ed bedf ced adcbefg gebcd | ed bcgafe cdgba cbgef\n",
    "egadfb cdbfeg cegd fecab cgb gbdefca cg fgcdab egfdb bfceg | gbdfcae bgc cg cgb\n",
    "gcafb gcf dcaebfg ecagb gf abcdeg gaef cafbge fdbac fegbdc | fgae cfgab fg bagce\n",
    "```\n",
    "\n",
    "Вывод: 26"
   ]
  },
  {
   "cell_type": "code",
   "execution_count": 111,
   "metadata": {},
   "outputs": [
    {
     "name": "stdout",
     "output_type": "stream",
     "text": [
      " -------- -------- -------- -------- -------- -------- -------- -------- -------- --------\n",
      "|  aaaa  |        |  aaaa  |  aaaa  |        |  aaaa  |  aaaa  |  aaaa  |  aaaa  |  aaaa  | \n",
      "| b    c |      c |      c |      c | b    c | b      | b      |      c | b    c | b    c | \n",
      "| b    c |      c |      c |      c | b    c | b      | b      |      c | b    c | b    c | \n",
      "|        |        |  dddd  |  dddd  |  dddd  |  dddd  |  dddd  |        |  dddd  |  dddd  | \n",
      "| e    f |      f | e      |      f |      f |      f | e    f |      f | e    f |      f | \n",
      "| e    f |      f | e      |      f |      f |      f | e    f |      f | e    f |      f | \n",
      "|  gggg  |        |  gggg  |  gggg  |        |  gggg  |  gggg  |        |  gggg  |  gggg  | \n",
      " -------- -------- -------- -------- -------- -------- -------- -------- -------- --------\n"
     ]
    }
   ],
   "source": [
    "def Display(codes: list):\n",
    "    result = [\"| \" for _ in range(7)]\n",
    "    for c in codes:\n",
    "        if \"a\" in c:\n",
    "            result[0] += \" aaaa \" + \" | \"\n",
    "        else:\n",
    "            result[0] += \"      \" + \" | \"\n",
    "    for c in codes:\n",
    "        if \"b\" in c and \"c\" in c:\n",
    "            result[1] += \"b    c\" + \" | \"\n",
    "        elif \"b\" in c and \"c\" not in c:\n",
    "            result[1] += \"b     \" + \" | \"\n",
    "        elif \"b\" not in c and \"c\" in c:\n",
    "            result[1] += \"     c\" + \" | \"\n",
    "        else:\n",
    "            result[1] += \"      \" + \" | \"\n",
    "    result[2] = result[1]\n",
    "    for c in codes:\n",
    "        if \"d\" in c:\n",
    "            result[3] += \" dddd \" + \" | \"\n",
    "        else:\n",
    "            result[3] += \"      \" + \" | \"\n",
    "    for c in codes:\n",
    "        if \"e\" in c and \"f\" in c:\n",
    "            result[4] += \"e    f\" + \" | \"\n",
    "        elif \"e\" in c and \"f\" not in c:\n",
    "            result[4] += \"e     \" + \" | \"\n",
    "        elif \"e\" not in c and \"f\" in c:\n",
    "            result[4] += \"     f\" + \" | \"\n",
    "        else:\n",
    "            result[4] += \"      \" + \" | \"\n",
    "    result[5] = result[4]\n",
    "    for c in codes:\n",
    "        if \"g\" in c:\n",
    "            result[6] += \" gggg \" + \" | \"\n",
    "        else:\n",
    "            result[6] += \"      \" + \" | \"\n",
    "            \n",
    "    result.insert(0, ' --------' * len(codes))\n",
    "    result.append(' --------' * len(codes))\n",
    "    print(\"\\n\".join(result))\n",
    "    \n",
    "    \n",
    "Display([\"abcefg\", \"cf\", \"acdeg\", \"acdfg\", \"bcdf\", \"abdfg\", \"abdefg\", \"acf\", \"abcdefg\", \"abcdfg\"])"
   ]
  },
  {
   "cell_type": "code",
   "execution_count": 130,
   "metadata": {},
   "outputs": [
    {
     "name": "stdout",
     "output_type": "stream",
     "text": [
      " -------- -------- -------- -------- -------- -------- -------- --------\n",
      "|  aaaa  |        |  aaaa  |        |  aaaa  |  aaaa  |  aaaa  |  aaaa  | \n",
      "| b    c |      c |      c | b    c | b      |      c | b    c | b    c | \n",
      "| b    c |      c |      c | b    c | b      |      c | b    c | b    c | \n",
      "|        |        |  dddd  |  dddd  |  dddd  |        |  dddd  |  dddd  | \n",
      "| e    f |      f |      f |      f | e    f |      f | e    f |      f | \n",
      "| e    f |      f |      f |      f | e    f |      f | e    f |      f | \n",
      "|  gggg  |        |  gggg  |        |  gggg  |        |  gggg  |  gggg  | \n",
      " -------- -------- -------- -------- -------- -------- -------- --------\n",
      " -------- --------\n",
      "|  aaaa  |  aaaa  | \n",
      "|      c | b      | \n",
      "|      c | b      | \n",
      "|  dddd  |  dddd  | \n",
      "| e      |      f | \n",
      "| e      |      f | \n",
      "|  gggg  |  gggg  | \n",
      " -------- --------\n"
     ]
    }
   ],
   "source": [
    "Display([\"abcefg\", \"cf\", \"acdfg\", \"bcdf\", \"abdefg\", \"acf\", \"abcdefg\", \"abcdfg\"])\n",
    "Display([ \"acdeg\",  \"abdfg\", ])"
   ]
  },
  {
   "cell_type": "code",
   "execution_count": null,
   "metadata": {},
   "outputs": [],
   "source": [
    "helper = {\n",
    "    2: [1],\n",
    "    3: [7],\n",
    "    4: [4],\n",
    "    5: [2, 3, 5]\n",
    "    6: [0, 6, 9],\n",
    "    7: [8],\n",
    "}"
   ]
  },
  {
   "cell_type": "code",
   "execution_count": null,
   "metadata": {},
   "outputs": [],
   "source": []
  },
  {
   "cell_type": "code",
   "execution_count": 117,
   "metadata": {},
   "outputs": [
    {
     "name": "stdout",
     "output_type": "stream",
     "text": [
      "[{'b', 'e'}, {'a', 'c', 'f', 'd', 'e', 'b', 'g'}, {'c', 'f', 'd', 'e', 'b', 'g'}, {'a', 'c', 'f', 'd', 'e', 'g'}, {'b', 'g', 'c', 'e'}, {'c', 'f', 'd', 'e', 'g'}, {'a', 'f', 'd', 'e', 'b', 'g'}, {'c', 'f', 'd', 'e', 'b'}, {'a', 'c', 'f', 'd', 'b'}, {'b', 'd', 'e'}]\n",
      "[{'a', 'f', 'd', 'e', 'b', 'g'}, {'c', 'd', 'e', 'b', 'g'}, {'b', 'g', 'c'}, {'g', 'c'}, {'a', 'c', 'f', 'd', 'e', 'b', 'g'}, {'f', 'd', 'e', 'b', 'g'}, {'a', 'c', 'f', 'd', 'b', 'g'}, {'a', 'c', 'd', 'e', 'b'}, {'c', 'f', 'd', 'e', 'b', 'g'}, {'e', 'g', 'c', 'f'}]\n",
      "[{'a', 'f', 'd', 'e', 'b', 'g'}, {'g', 'c'}, {'a', 'c', 'd', 'e', 'b'}, {'a', 'f', 'd', 'b', 'g'}, {'a', 'c', 'f', 'd', 'b', 'g'}, {'c', 'f', 'd', 'e', 'b', 'g'}, {'a', 'c', 'd', 'b', 'g'}, {'a', 'g', 'c', 'f'}, {'b', 'g', 'c'}, {'a', 'c', 'f', 'd', 'e', 'b', 'g'}]\n",
      "[{'c', 'f', 'd', 'e', 'b', 'g'}, {'b', 'c', 'd'}, {'a', 'c', 'f', 'd', 'e', 'b'}, {'a', 'd', 'e', 'b', 'g'}, {'b', 'a', 'c', 'f'}, {'b', 'c'}, {'a', 'c', 'f', 'd', 'e'}, {'a', 'c', 'd', 'e', 'b'}, {'a', 'c', 'f', 'd', 'e', 'g'}, {'a', 'c', 'f', 'd', 'e', 'b', 'g'}]\n",
      "[{'a', 'c', 'f', 'd', 'e', 'b', 'g'}, {'b', 'f', 'g'}, {'g', 'f'}, {'a', 'f', 'e', 'b', 'g'}, {'a', 'f', 'd', 'e', 'b'}, {'f', 'g', 'c', 'e'}, {'a', 'c', 'e', 'b', 'g'}, {'a', 'c', 'f', 'e', 'b', 'g'}, {'a', 'c', 'd', 'e', 'b', 'g'}, {'a', 'c', 'f', 'd', 'b', 'g'}]\n",
      "[{'a', 'f', 'e', 'b', 'g'}, {'a', 'c'}, {'a', 'c', 'f', 'e', 'b', 'g'}, {'a', 'c', 'f', 'd', 'e', 'b', 'g'}, {'a', 'c', 'f', 'd', 'e', 'g'}, {'c', 'f', 'd', 'b', 'g'}, {'b', 'a', 'c', 'e'}, {'a', 'f', 'd', 'e', 'b', 'g'}, {'a', 'c', 'f', 'b', 'g'}, {'a', 'c', 'f'}]\n",
      "[{'c', 'f', 'd', 'b', 'g'}, {'f', 'g', 'd'}, {'a', 'c', 'f', 'd', 'e', 'b', 'g'}, {'f', 'g', 'c', 'e'}, {'a', 'f', 'd', 'e', 'b', 'g'}, {'a', 'c', 'f', 'd', 'e', 'b'}, {'c', 'f', 'd', 'e', 'b'}, {'a', 'c', 'd', 'b', 'g'}, {'c', 'f', 'd', 'e', 'b', 'g'}, {'g', 'f'}]\n",
      "[{'c', 'f', 'd', 'e', 'b', 'g'}, {'a', 'c', 'f', 'e', 'b', 'g'}, {'c', 'f', 'e', 'b', 'g'}, {'a', 'c', 'f', 'd', 'e', 'g'}, {'a', 'c', 'd', 'b', 'g'}, {'d', 'e'}, {'b', 'f', 'd', 'e'}, {'c', 'd', 'e'}, {'a', 'c', 'f', 'd', 'e', 'b', 'g'}, {'c', 'd', 'e', 'b', 'g'}]\n",
      "[{'a', 'f', 'd', 'e', 'b', 'g'}, {'c', 'f', 'd', 'e', 'b', 'g'}, {'g', 'c', 'd', 'e'}, {'a', 'c', 'f', 'e', 'b'}, {'b', 'g', 'c'}, {'a', 'c', 'f', 'd', 'e', 'b', 'g'}, {'g', 'c'}, {'a', 'c', 'f', 'd', 'b', 'g'}, {'f', 'd', 'e', 'b', 'g'}, {'c', 'f', 'e', 'b', 'g'}]\n",
      "[{'a', 'c', 'f', 'b', 'g'}, {'g', 'c', 'f'}, {'a', 'c', 'f', 'd', 'e', 'b', 'g'}, {'a', 'c', 'e', 'b', 'g'}, {'g', 'f'}, {'a', 'c', 'd', 'e', 'b', 'g'}, {'a', 'g', 'f', 'e'}, {'a', 'c', 'f', 'e', 'b', 'g'}, {'a', 'c', 'f', 'd', 'b'}, {'c', 'f', 'd', 'e', 'b', 'g'}]\n",
      "26\n"
     ]
    }
   ],
   "source": [
    "import re\n",
    "\n",
    "task = []\n",
    "with open(\"test.txt\") as f:\n",
    "    for line in f:\n",
    "        line = line.strip()\n",
    "        values = re.findall(r'[a-g]+', line)\n",
    "        \n",
    "        assert len(values) == 14\n",
    "        codes, display = values[:-4], values[-4:]\n",
    "        codes = [set(c) for c in codes]\n",
    "        display = [set(c) for c in display]\n",
    "        task.append((codes, display))\n",
    "        \n",
    "        \n",
    "        \n",
    "answer = 0\n",
    "for codes, display in task:\n",
    "    for digit in display:\n",
    "        if len(digit) in [2, 3, 4, 7]:\n",
    "            answer += 1\n",
    "            \n",
    "print(answer)\n"
   ]
  },
  {
   "cell_type": "markdown",
   "metadata": {},
   "source": [
    "# Part 2\n",
    "\n",
    "Теперь нам нужно найти правильное соединение сегментов, то есть нужно найти какой код, какой число обозначает.\n",
    "\n",
    "Нужно найти сумму всех отображаемых значений.\n",
    "\n",
    "Вывод: 61229"
   ]
  },
  {
   "cell_type": "code",
   "execution_count": null,
   "metadata": {},
   "outputs": [],
   "source": [
    "helper = {\n",
    "    2: [1],\n",
    "    3: [7],\n",
    "    4: [4],\n",
    "    7: [8],\n",
    "}"
   ]
  },
  {
   "cell_type": "code",
   "execution_count": 147,
   "metadata": {},
   "outputs": [
    {
     "data": {
      "text/plain": [
       "True"
      ]
     },
     "execution_count": 147,
     "metadata": {},
     "output_type": "execute_result"
    }
   ],
   "source": [
    "{'f', 'd', 'e', 'b', 'g'} < {'a', 'f', 'd', 'e', 'b', 'g'}"
   ]
  },
  {
   "cell_type": "code",
   "execution_count": 163,
   "metadata": {},
   "outputs": [
    {
     "name": "stdout",
     "output_type": "stream",
     "text": [
      "=> 8394\n",
      "=> 9781\n",
      "=> 1197\n",
      "=> 9361\n",
      "=> 4873\n",
      "=> 8418\n",
      "=> 4548\n",
      "=> 1625\n",
      "=> 8717\n",
      "=> 4315\n",
      "61229\n"
     ]
    }
   ],
   "source": [
    "import re\n",
    "\n",
    "task = []\n",
    "with open(\"test.txt\") as f:\n",
    "    for line in f:\n",
    "        line = line.strip()\n",
    "        values = re.findall(r'[a-g]+', line)\n",
    "        \n",
    "        assert len(values) == 14\n",
    "        codes, display = values[:-4], values[-4:]\n",
    "        codes = [set(c) for c in codes]\n",
    "        display = [set(c) for c in display]\n",
    "        task.append((codes, display))\n",
    "        \n",
    "        \n",
    "        \n",
    "answer = 0\n",
    "for codes, display in task:\n",
    "    \n",
    "    coder = {i: None for i in range(10)}\n",
    "    \n",
    "    #for _ in range(30):\n",
    "    while codes:\n",
    "        if not codes:\n",
    "            break\n",
    "        c = codes.pop(0)\n",
    "\n",
    "        if len(c) == 2:\n",
    "            coder[1] = c\n",
    "        elif len(c) == 3:\n",
    "            coder[7] = c\n",
    "        elif len(c) == 4:\n",
    "            coder[4] = c\n",
    "        elif len(c) == 7:\n",
    "            coder[8] = c\n",
    "            \n",
    "        elif coder[4] is not None and coder[4] < c:\n",
    "            coder[9] = c\n",
    "        elif coder[7] is not None and len(c) == 5 and coder[7] < c:\n",
    "            coder[3] = c\n",
    "        elif coder[7] is not None and coder[9] is not None and len(c) == 6 and coder[7] < c:\n",
    "            coder[0] = c\n",
    "            \n",
    "        elif coder[0] is not None and coder[9] is not None and len(c) == 6:\n",
    "            coder[6] = c\n",
    "            \n",
    "        elif coder[6] is not None and coder[3] is not None and len(c) == 5 and c < coder[6]:\n",
    "            coder[5] = c\n",
    "        elif coder[3] is not None and coder[5] is not None and len(c) == 5:\n",
    "            coder[2] = c\n",
    "        else:\n",
    "            codes.append(c)\n",
    "            \n",
    "    num = 0\n",
    "    for i, digit in enumerate(reversed(display)):\n",
    "        for k, v in coder.items():\n",
    "            if v == digit:\n",
    "                num += k * 10**i\n",
    "                break\n",
    "    print('=>', num)\n",
    "    answer += num\n",
    "print(answer)\n",
    "with open(\"output2.txt\", \"w\") as f:\n",
    "    print(answer, file=f)\n",
    "\n"
   ]
  },
  {
   "cell_type": "code",
   "execution_count": 162,
   "metadata": {},
   "outputs": [
    {
     "data": {
      "text/plain": [
       "'answer=61229'"
      ]
     },
     "execution_count": 162,
     "metadata": {},
     "output_type": "execute_result"
    }
   ],
   "source": [
    "f'answer={answer}'"
   ]
  },
  {
   "cell_type": "code",
   "execution_count": null,
   "metadata": {},
   "outputs": [],
   "source": []
  }
 ],
 "metadata": {
  "kernelspec": {
   "display_name": "Python 3",
   "language": "python",
   "name": "python3"
  },
  "language_info": {
   "codemirror_mode": {
    "name": "ipython",
    "version": 3
   },
   "file_extension": ".py",
   "mimetype": "text/x-python",
   "name": "python",
   "nbconvert_exporter": "python",
   "pygments_lexer": "ipython3",
   "version": "3.9.10"
  }
 },
 "nbformat": 4,
 "nbformat_minor": 4
}
