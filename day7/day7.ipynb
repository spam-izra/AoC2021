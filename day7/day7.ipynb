{
 "cells": [
  {
   "cell_type": "markdown",
   "metadata": {
    "tags": []
   },
   "source": [
    "# День 7\n",
    "\n",
    "### https://adventofcode.com/2021/day/7"
   ]
  },
  {
   "cell_type": "markdown",
   "metadata": {},
   "source": [
    "# Part 1\n",
    "\n",
    "В этой задачи, крабы на маленький подлодках (да, даже для них там слишком глубоко), пытаются пробить отверстие в комплекс подводных пещер. Для этого им нужно выравниться в одну линию. Подлодки могут двигаться только по горизонтали и обладают только небольшим запасом топлива. \n",
    "\n",
    "При сдвиге на 1 тратится 1 единица топлива. Нужно найти минимальное количество топлива, которое потребуется на то, чтобы все подлодки встали в одну линию.\n",
    "\n",
    "\n",
    "Ввод:\n",
    "```\n",
    "16,1,2,0,4,2,7,1,2,14\n",
    "```\n",
    "\n",
    "Вывод: 37\n"
   ]
  },
  {
   "cell_type": "code",
   "execution_count": 13,
   "metadata": {},
   "outputs": [
    {
     "name": "stdout",
     "output_type": "stream",
     "text": [
      "0 1954\n",
      "answer=356992\n"
     ]
    }
   ],
   "source": [
    "with open(\"input.txt\") as f:\n",
    "    data = list(map(int, f.read().split(\",\")))\n",
    "\n",
    "cMin = min(data)\n",
    "cMax = max(data)\n",
    "\n",
    "print(cMin, cMax)\n",
    "\n",
    "answer = None\n",
    "\n",
    "for pos in range(cMin, cMax + 1):\n",
    "    fuel = 0\n",
    "    for c in data:\n",
    "        fuel += abs(pos - c)\n",
    "        \n",
    "    if answer is None or answer > fuel:\n",
    "        answer = fuel\n",
    "        \n",
    "        \n",
    "print(f'{answer=:}')\n",
    "with open('output1.txt', 'w') as f:\n",
    "    print(answer, file=f)"
   ]
  },
  {
   "cell_type": "markdown",
   "metadata": {
    "tags": []
   },
   "source": [
    "# Part 2\n",
    "\n",
    "Оказалось, что на 1 смещение тратится не 1 единица топлива. Первое смещение стоит 1, второе - 2, третье - 3, и так далее. Какое минимальное количество топлива будет в этот раз? "
   ]
  },
  {
   "cell_type": "code",
   "execution_count": 17,
   "metadata": {},
   "outputs": [
    {
     "name": "stdout",
     "output_type": "stream",
     "text": [
      "answer=101268110.0\n",
      "CPU times: user 520 ms, sys: 12.6 ms, total: 533 ms\n",
      "Wall time: 625 ms\n"
     ]
    }
   ],
   "source": [
    "%%time\n",
    "\n",
    "with open(\"input.txt\") as f:\n",
    "    data = list(map(int, f.read().split(\",\")))\n",
    "\n",
    "cMin = min(data)\n",
    "cMax = max(data)\n",
    "\n",
    "answer = None\n",
    "\n",
    "for pos in range(cMin, cMax + 1):\n",
    "    fuel = 0\n",
    "    for c in data:\n",
    "        n = abs(pos - c)\n",
    "        fuel += n * (n + 1) / 2\n",
    "        \n",
    "    if answer is None or answer > fuel:\n",
    "        answer = fuel\n",
    "        \n",
    "        \n",
    "print(f'{answer=:}')\n",
    "with open('output2.txt', 'w') as f:\n",
    "    print(answer, file=f)"
   ]
  },
  {
   "cell_type": "code",
   "execution_count": null,
   "metadata": {},
   "outputs": [],
   "source": []
  }
 ],
 "metadata": {
  "kernelspec": {
   "display_name": "Python 3",
   "language": "python",
   "name": "python3"
  },
  "language_info": {
   "codemirror_mode": {
    "name": "ipython",
    "version": 3
   },
   "file_extension": ".py",
   "mimetype": "text/x-python",
   "name": "python",
   "nbconvert_exporter": "python",
   "pygments_lexer": "ipython3",
   "version": "3.9.10"
  }
 },
 "nbformat": 4,
 "nbformat_minor": 4
}
