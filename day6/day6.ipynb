{
 "cells": [
  {
   "cell_type": "markdown",
   "metadata": {
    "jp-MarkdownHeadingCollapsed": true,
    "tags": []
   },
   "source": [
    "# День 6\n",
    "\n",
    "### https://adventofcode.com/2021/day/6"
   ]
  },
  {
   "cell_type": "markdown",
   "metadata": {
    "tags": []
   },
   "source": [
    "# Part 1\n",
    "\n",
    "Нам необходимо спрогнозировать развитие популяции светящихся рыб. Известно, что каждая рыба создает новую рыбу каждые 7 дней. При этом вновь созданная рыба должна выждать дополнительно два дня к вышеуказанным семи при первом создания новой рыбы. Входные данные - это стартовая популяция рыб и сколько дней им осталось до создания новой рыбы. Сколько рыб будет после 80го дня?\n",
    "\n",
    "```\n",
    "Initial state: 3,4,3,1,2\n",
    "After  1 day:  2,3,2,0,1\n",
    "After  2 days: 1,2,1,6,0,8\n",
    "After  3 days: 0,1,0,5,6,7,8\n",
    "After  4 days: 6,0,6,4,5,6,7,8,8\n",
    "After  5 days: 5,6,5,3,4,5,6,7,7,8\n",
    "After  6 days: 4,5,4,2,3,4,5,6,6,7\n",
    "After  7 days: 3,4,3,1,2,3,4,5,5,6\n",
    "After  8 days: 2,3,2,0,1,2,3,4,4,5\n",
    "After  9 days: 1,2,1,6,0,1,2,3,3,4,8\n",
    "After 10 days: 0,1,0,5,6,0,1,2,2,3,7,8\n",
    "After 11 days: 6,0,6,4,5,6,0,1,1,2,6,7,8,8,8\n",
    "After 12 days: 5,6,5,3,4,5,6,0,0,1,5,6,7,7,7,8,8\n",
    "After 13 days: 4,5,4,2,3,4,5,6,6,0,4,5,6,6,6,7,7,8,8\n",
    "After 14 days: 3,4,3,1,2,3,4,5,5,6,3,4,5,5,5,6,6,7,7,8\n",
    "After 15 days: 2,3,2,0,1,2,3,4,4,5,2,3,4,4,4,5,5,6,6,7\n",
    "After 16 days: 1,2,1,6,0,1,2,3,3,4,1,2,3,3,3,4,4,5,5,6,8\n",
    "After 17 days: 0,1,0,5,6,0,1,2,2,3,0,1,2,2,2,3,3,4,4,5,7,8\n",
    "After 18 days: 6,0,6,4,5,6,0,1,1,2,6,0,1,1,1,2,2,3,3,4,6,7,8,8,8,8\n",
    "```\n",
    "\n",
    "\n",
    "Ввод:\n",
    "```\n",
    "3,4,3,1,2\n",
    "```\n",
    "\n",
    "Вывод: 5934"
   ]
  },
  {
   "cell_type": "code",
   "execution_count": 33,
   "metadata": {},
   "outputs": [
    {
     "name": "stdout",
     "output_type": "stream",
     "text": [
      "fishes=[3, 4, 3, 1, 2]\n",
      "5934\n"
     ]
    }
   ],
   "source": [
    "with open(\"test.txt\") as f:\n",
    "    fishes = [*map(int, f.read().split(\",\"))]\n",
    "    \n",
    "print(f'{fishes=}')\n",
    "\n",
    "\n",
    "for day in range(80):\n",
    "    for i in range(len(fishes)):\n",
    "        fishes[i] -= 1\n",
    "        if fishes[i] < 0:\n",
    "            fishes[i] = 6\n",
    "            fishes.append(8)\n",
    "            \n",
    "answer = len(fishes)\n",
    "print(answer)\n",
    "with open(\"output1.txt\", \"w\") as f:\n",
    "    print(answer, file=f)"
   ]
  },
  {
   "cell_type": "markdown",
   "metadata": {},
   "source": [
    "# Part 2\n",
    "\n",
    "Теперь нужно посчитать количество рыб на 256-й день.\n",
    "\n",
    "Вывод: 26984457539"
   ]
  },
  {
   "cell_type": "code",
   "execution_count": 35,
   "metadata": {},
   "outputs": [
    {
     "name": "stdout",
     "output_type": "stream",
     "text": [
      "fishes=[0, 1, 1, 2, 1, 0, 0, 0, 0]\n",
      "26984457539\n"
     ]
    }
   ],
   "source": [
    "fishes = [0 for _ in range(8+1)]\n",
    "\n",
    "with open(\"test.txt\") as f:\n",
    "    tmp = [*map(int, f.read().split(\",\"))]\n",
    "    for fish in tmp:\n",
    "        fishes[fish] += 1\n",
    "        \n",
    "print(f'{fishes=}')\n",
    "\n",
    "for day in range(256):\n",
    "    new = fishes.pop(0)\n",
    "    fishes[6] += new\n",
    "    fishes.append(new)\n",
    "    \n",
    "answer = sum(fishes)\n",
    "print(answer)"
   ]
  }
 ],
 "metadata": {
  "kernelspec": {
   "display_name": "Python 3",
   "language": "python",
   "name": "python3"
  },
  "language_info": {
   "codemirror_mode": {
    "name": "ipython",
    "version": 3
   },
   "file_extension": ".py",
   "mimetype": "text/x-python",
   "name": "python",
   "nbconvert_exporter": "python",
   "pygments_lexer": "ipython3",
   "version": "3.9.10"
  }
 },
 "nbformat": 4,
 "nbformat_minor": 4
}
