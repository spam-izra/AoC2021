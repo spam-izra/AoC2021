{
 "cells": [
  {
   "cell_type": "markdown",
   "metadata": {
    "tags": []
   },
   "source": [
    "# День 5\n",
    "\n",
    "### https://adventofcode.com/2021/day/5"
   ]
  },
  {
   "cell_type": "markdown",
   "metadata": {
    "tags": []
   },
   "source": [
    "# Part 1\n",
    "\n",
    "Подлодка наткнулась на поле геотермальных источников, которые формируют весьма неприятные облака. Эти облака хотелось бы избегать.\n",
    "\n",
    "Эти геотермальные источники, волею случая, стараются образовывать прямые линии. Наши датчики формируют список таких линий в виде `x1,y1 -> x2,y2`, x1,y1 - это координаты начала линии, а x2,y2 - конца. Начала и конец являются частью линии. \n",
    "\n",
    "И так, нам нужно найти точки, в которых пересекаются 2 и более линии, в них облака наиболее опасны.\n",
    "\n",
    "Учитываем только горизонтальные и вертикальные линии.\n",
    "\n",
    "Ввод:\n",
    "```\n",
    "0,9 -> 5,9\n",
    "8,0 -> 0,8\n",
    "9,4 -> 3,4\n",
    "2,2 -> 2,1\n",
    "7,0 -> 7,4\n",
    "6,4 -> 2,0\n",
    "0,9 -> 2,9\n",
    "3,4 -> 1,4\n",
    "0,0 -> 8,8\n",
    "5,5 -> 8,2\n",
    "```\n",
    "\n",
    "Вывод: 5"
   ]
  },
  {
   "cell_type": "code",
   "execution_count": 58,
   "metadata": {},
   "outputs": [
    {
     "name": "stdout",
     "output_type": "stream",
     "text": [
      "0 9\n",
      "0 9\n",
      "10 10\n",
      "5\n"
     ]
    }
   ],
   "source": [
    "\n",
    "lines = []\n",
    "\n",
    "xmin =  10**10\n",
    "xmax = -10**10\n",
    "\n",
    "ymin =  10**10\n",
    "ymax = -10**10\n",
    "\n",
    "with open(\"test.txt\") as f:\n",
    "    for line in f:\n",
    "        line = line.strip()\n",
    "\n",
    "        x1y1, x2y2 = line.split(\" -> \")\n",
    "        x1, y1 = map(int, x1y1.split(\",\"))\n",
    "        x2, y2 = map(int, x2y2.split(\",\"))\n",
    "        lines.append( ((x1, y1), (x2, y2)) )\n",
    "        \n",
    "        xmin = min(x1, x2, xmin)\n",
    "        xmax = max(x1, x2, xmax)\n",
    "        ymin = min(y1, y2, ymin)\n",
    "        ymax = max(y1, y2, ymax)\n",
    "        \n",
    "print(xmin, xmax)\n",
    "print(ymin, ymax)\n",
    "\n",
    "W = xmax - xmin + 1\n",
    "H = ymax - ymin + 1\n",
    "\n",
    "print(W, H)\n",
    "          \n",
    "grid = [\n",
    "    [0 for _ in range(W)] for _ in range(H)\n",
    "]\n",
    "\n",
    "\n",
    "for (x1, y1), (x2, y2) in lines:\n",
    "    if x1 == x2:\n",
    "        dx = 0\n",
    "        dy = 1 if y2 >= y1 else -1\n",
    "        length = abs(y2 - y1) + 1\n",
    "    elif y1 == y2:\n",
    "        dy = 0\n",
    "        dx = 1 if x2 >= x1 else -1\n",
    "        length = abs(x2 - x1) + 1\n",
    "    else:\n",
    "        continue\n",
    "\n",
    "    \n",
    "    \n",
    "    x, y = x1, y1\n",
    "    for l in range(length):\n",
    "        grid[y][x] += 1\n",
    "        x += dx\n",
    "        y += dy\n",
    "    \n",
    "\n",
    "answer = 0 \n",
    "for row in grid:\n",
    "    for cell in row:\n",
    "        if cell > 1:\n",
    "            answer += 1\n",
    "            \n",
    "print(answer)\n",
    "\n",
    "with open(\"output1.txt\", \"w\") as f:\n",
    "    print(answer, file=f)"
   ]
  },
  {
   "cell_type": "markdown",
   "metadata": {},
   "source": [
    "# Part 2\n",
    "\n",
    "Теперь нужно учитывать диагональные линии.\n",
    "\n",
    "Вывод: 12"
   ]
  },
  {
   "cell_type": "code",
   "execution_count": 61,
   "metadata": {},
   "outputs": [
    {
     "name": "stdout",
     "output_type": "stream",
     "text": [
      "0 9\n",
      "0 9\n",
      "10 10\n",
      "12\n"
     ]
    },
    {
     "data": {
      "text/plain": [
       "[[1, 0, 1, 0, 0, 0, 0, 1, 1, 0],\n",
       " [0, 1, 1, 1, 0, 0, 0, 2, 0, 0],\n",
       " [0, 0, 2, 0, 1, 0, 1, 1, 1, 0],\n",
       " [0, 0, 0, 1, 0, 2, 0, 2, 0, 0],\n",
       " [0, 1, 1, 2, 3, 1, 3, 2, 1, 1],\n",
       " [0, 0, 0, 1, 0, 2, 0, 0, 0, 0],\n",
       " [0, 0, 1, 0, 0, 0, 1, 0, 0, 0],\n",
       " [0, 1, 0, 0, 0, 0, 0, 1, 0, 0],\n",
       " [1, 0, 0, 0, 0, 0, 0, 0, 1, 0],\n",
       " [2, 2, 2, 1, 1, 1, 0, 0, 0, 0]]"
      ]
     },
     "execution_count": 61,
     "metadata": {},
     "output_type": "execute_result"
    }
   ],
   "source": [
    "\n",
    "lines = []\n",
    "\n",
    "xmin =  10**10\n",
    "xmax = -10**10\n",
    "\n",
    "ymin =  10**10\n",
    "ymax = -10**10\n",
    "\n",
    "with open(\"test.txt\") as f:\n",
    "    for line in f:\n",
    "        line = line.strip()\n",
    "\n",
    "        x1y1, x2y2 = line.split(\" -> \")\n",
    "        x1, y1 = map(int, x1y1.split(\",\"))\n",
    "        x2, y2 = map(int, x2y2.split(\",\"))\n",
    "        lines.append( ((x1, y1), (x2, y2)) )\n",
    "        \n",
    "        xmin = min(x1, x2, xmin)\n",
    "        xmax = max(x1, x2, xmax)\n",
    "        ymin = min(y1, y2, ymin)\n",
    "        ymax = max(y1, y2, ymax)\n",
    "        \n",
    "print(xmin, xmax)\n",
    "print(ymin, ymax)\n",
    "\n",
    "W = xmax - xmin + 1\n",
    "H = ymax - ymin + 1\n",
    "\n",
    "print(W, H)\n",
    "          \n",
    "grid = [\n",
    "    [0 for _ in range(W)] for _ in range(H)\n",
    "]\n",
    "\n",
    "\n",
    "for (x1, y1), (x2, y2) in lines:\n",
    "    if x1 == x2:\n",
    "        dx = 0\n",
    "        dy = 1 if y2 >= y1 else -1\n",
    "        length = abs(y2 - y1) + 1\n",
    "    elif y1 == y2:\n",
    "        dy = 0\n",
    "        dx = 1 if x2 >= x1 else -1\n",
    "        length = abs(x2 - x1) + 1\n",
    "    elif abs(x1 - x2) == abs(y1 - y2):\n",
    "        if x2 >= x1:\n",
    "            dx = 1\n",
    "        else:\n",
    "            dx = -1\n",
    "        if y2 >= y1:\n",
    "            dy = 1\n",
    "        else:\n",
    "            dy = -1\n",
    "            \n",
    "        length = abs(x2 - x1) + 1\n",
    "    else:\n",
    "        continue\n",
    "\n",
    "    \n",
    "    \n",
    "    x, y = x1, y1\n",
    "    for l in range(length):\n",
    "        grid[y][x] += 1\n",
    "        x += dx\n",
    "        y += dy\n",
    "    \n",
    "\n",
    "answer = 0 \n",
    "for row in grid:\n",
    "    for cell in row:\n",
    "        if cell > 1:\n",
    "            answer += 1\n",
    "            \n",
    "print(answer)\n",
    "\n",
    "with open(\"output2.txt\", \"w\") as f:\n",
    "    print(answer, file=f)\n",
    "    \n",
    "grid"
   ]
  },
  {
   "cell_type": "code",
   "execution_count": null,
   "metadata": {},
   "outputs": [],
   "source": []
  },
  {
   "cell_type": "code",
   "execution_count": null,
   "metadata": {},
   "outputs": [],
   "source": []
  }
 ],
 "metadata": {
  "kernelspec": {
   "display_name": "Python 3",
   "language": "python",
   "name": "python3"
  },
  "language_info": {
   "codemirror_mode": {
    "name": "ipython",
    "version": 3
   },
   "file_extension": ".py",
   "mimetype": "text/x-python",
   "name": "python",
   "nbconvert_exporter": "python",
   "pygments_lexer": "ipython3",
   "version": "3.9.10"
  }
 },
 "nbformat": 4,
 "nbformat_minor": 4
}
