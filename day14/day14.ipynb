{
 "cells": [
  {
   "cell_type": "markdown",
   "metadata": {
    "jp-MarkdownHeadingCollapsed": true,
    "tags": []
   },
   "source": [
    "# День 14\n",
    "\n",
    "https://adventofcode.com/2021/day/14"
   ]
  },
  {
   "cell_type": "markdown",
   "metadata": {
    "tags": []
   },
   "source": [
    "# Part 1\n",
    "\n"
   ]
  },
  {
   "cell_type": "markdown",
   "metadata": {},
   "source": [
    "Задача - создать полимер. Имеется стартовая цепочка элементов и правила роста полимера. В правиле указно, между какими элементами нужно добавить новый элемент. \n",
    "\n",
    "Нужно найти количества наиболее редкого и наиболее частого элементов в цепочке после 10го шага роста. В качестве ответа вывести разницу между этими величинами.\n",
    "\n",
    "Ввод:\n",
    "```\n",
    "NNCB\n",
    "\n",
    "CH -> B\n",
    "HH -> N\n",
    "CB -> H\n",
    "NH -> C\n",
    "HB -> C\n",
    "HC -> B\n",
    "HN -> C\n",
    "NN -> C\n",
    "BH -> H\n",
    "NC -> B\n",
    "NB -> B\n",
    "BN -> B\n",
    "BB -> N\n",
    "BC -> B\n",
    "CC -> N\n",
    "CN -> C\n",
    "```\n",
    "\n",
    "Вывод: 1749 - 161 = 1588"
   ]
  },
  {
   "cell_type": "code",
   "execution_count": 1,
   "metadata": {},
   "outputs": [
    {
     "name": "stdout",
     "output_type": "stream",
     "text": [
      "NNCB\n",
      "7\n",
      "13\n",
      "25\n",
      "49\n",
      "97\n",
      "193\n",
      "385\n",
      "769\n",
      "1537\n",
      "3073\n",
      "[('B', 1749), ('N', 865), ('C', 298), ('H', 161)]\n",
      "1588\n"
     ]
    }
   ],
   "source": [
    "from collections import Counter\n",
    "\n",
    "rules = {}\n",
    "\n",
    "with open(\"test.txt\") as f:\n",
    "    line = f.readline().strip()\n",
    "    for rule in f:\n",
    "        rule = rule.strip()\n",
    "        if rule == \"\": continue \n",
    "        pair, new = rule.split(\" -> \")\n",
    "        rules[pair] = new\n",
    "\n",
    "    \n",
    "print(line)\n",
    "for _ in range(10):\n",
    "    tmp = \"\"\n",
    "    \n",
    "    for a, b in zip(line[:-1], line[1:]):\n",
    "        tmp += a\n",
    "        if a + b in rules:\n",
    "            tmp += rules[a + b]\n",
    "    tmp += line[-1]\n",
    "    line = tmp\n",
    "    print(len(line))\n",
    "    #print(line)\n",
    "\n",
    "c = Counter(line).most_common()\n",
    "print(c)\n",
    "answer = c[0][1] - c[-1][1]\n",
    "\n",
    "with open(\"output1.txt\", \"w\") as f:\n",
    "    print(answer)\n",
    "    print(answer, file=f)"
   ]
  },
  {
   "cell_type": "markdown",
   "metadata": {
    "tags": []
   },
   "source": [
    "# Part 2\n",
    "\n",
    "Теперь нужно найти это же, но после 40 шага.\n",
    "\n",
    "Вывод: 2192039569602 - 3849876073 = 2188189693529"
   ]
  },
  {
   "cell_type": "code",
   "execution_count": 3,
   "metadata": {},
   "outputs": [
    {
     "name": "stdout",
     "output_type": "stream",
     "text": [
      "NNCB\n",
      "2188189693529\n"
     ]
    }
   ],
   "source": [
    "# Правила роста\n",
    "rules = {}\n",
    "# Счетчик элементов\n",
    "counter = {}\n",
    "# Счетчик пар элементов\n",
    "pairs = {}\n",
    "\n",
    "with open(\"test.txt\") as f:\n",
    "    line = f.readline().strip()\n",
    "    print(line)\n",
    "    for c in line:\n",
    "        counter[c] = counter.get(c, 0) + 1\n",
    "        \n",
    "    for i in range(len(line)-1):\n",
    "        p = line[i] + line[i+1]\n",
    "        pairs[p] = pairs.get(p, 0) + 1\n",
    "        \n",
    "    for rule in f:\n",
    "        rule = rule.strip()\n",
    "        if rule == \"\": continue \n",
    "        pair, new = rule.split(\" -> \")\n",
    "        rules[pair] = new\n",
    "\n",
    "    \n",
    "for _ in range(40):\n",
    "    tmp = {}\n",
    "    \n",
    "    for p, v in pairs.items():\n",
    "        if p not in rules:\n",
    "            continue\n",
    "            \n",
    "        a, b = p        \n",
    "        new = rules[p]\n",
    "        \n",
    "        tmp[a+new] = tmp.get(a+new, 0) + v\n",
    "        tmp[new+b] = tmp.get(new+b, 0) + v\n",
    "        counter[new] = counter.get(new, 0) + v\n",
    "    pairs = tmp\n",
    "    \n",
    "answer = counter[max(counter, key=lambda x: counter[x])] - counter[min(counter, key=lambda x: counter[x])]\n",
    "with open(\"output1.txt\", \"w\") as f:\n",
    "    print(answer)\n",
    "    print(answer, file=f)"
   ]
  },
  {
   "cell_type": "code",
   "execution_count": null,
   "metadata": {},
   "outputs": [],
   "source": []
  }
 ],
 "metadata": {
  "kernelspec": {
   "display_name": "Python 3",
   "language": "python",
   "name": "python3"
  },
  "language_info": {
   "codemirror_mode": {
    "name": "ipython",
    "version": 3
   },
   "file_extension": ".py",
   "mimetype": "text/x-python",
   "name": "python",
   "nbconvert_exporter": "python",
   "pygments_lexer": "ipython3",
   "version": "3.8.6"
  }
 },
 "nbformat": 4,
 "nbformat_minor": 4
}
